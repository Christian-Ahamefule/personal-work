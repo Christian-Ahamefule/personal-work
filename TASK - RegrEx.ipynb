{
 "cells": [
  {
   "cell_type": "code",
   "execution_count": 2,
   "metadata": {},
   "outputs": [
    {
     "name": "stdout",
     "output_type": "stream",
     "text": [
      "Enter the file name: regex_sum_1392397.txt\n",
      "421941\n"
     ]
    }
   ],
   "source": [
    "fname = input('Enter the file name: ')\n",
    "fhandle = open(fname)\n",
    "count = 0\n",
    "total = 0\n",
    "\n",
    "import re\n",
    "for line in fhandle:\n",
    "    new_work = line.rstrip()\n",
    "    num = re.findall('[0-9]+', new_work)\n",
    "    for values in num:\n",
    "        nums = int(values)\n",
    "        count = count + 1\n",
    "        total = total + nums\n",
    "#print(count, tot)\n",
    "print(tot)"
   ]
  },
  {
   "cell_type": "code",
   "execution_count": null,
   "metadata": {},
   "outputs": [],
   "source": []
  }
 ],
 "metadata": {
  "kernelspec": {
   "display_name": "Python 3",
   "language": "python",
   "name": "python3"
  },
  "language_info": {
   "codemirror_mode": {
    "name": "ipython",
    "version": 3
   },
   "file_extension": ".py",
   "mimetype": "text/x-python",
   "name": "python",
   "nbconvert_exporter": "python",
   "pygments_lexer": "ipython3",
   "version": "3.7.6"
  }
 },
 "nbformat": 4,
 "nbformat_minor": 4
}
