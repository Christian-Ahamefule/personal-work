{
 "cells": [
  {
   "cell_type": "markdown",
   "metadata": {},
   "source": [
    "# Extracting Data from JSON\n",
    "\n",
    "In this assignment you will write a Python program somewhat similar to http://www.py4e.com/code3/json2.py. The program will prompt for a URL, read the JSON data from that URL using urllib and then parse and extract the comment counts from the JSON data, compute the sum of the numbers in the file and enter the sum below:\n",
    "We provide two files for this assignment. One is a sample file where we give you the sum for your testing and the other is the actual data you need to process for the assignment.\n",
    "\n",
    "Sample data: http://py4e-data.dr-chuck.net/comments_42.json (Sum=2553)\n",
    "Actual data: http://py4e-data.dr-chuck.net/comments_1392402.json (Sum ends with 67)\n",
    "You do not need to save these files to your folder since your program will read the data directly from the URL. Note: Each student will have a distinct data url for the assignment - so only use your own data url for analysis.\n",
    "Data Format\n",
    "The data consists of a number of names and comment counts in JSON as follows:\n",
    "\n",
    "{\n",
    "  comments: [\n",
    "    {\n",
    "      name: \"Matthias\"\n",
    "      count: 97\n",
    "    },\n",
    "    {\n",
    "      name: \"Geomer\"\n",
    "      count: 97\n",
    "    }\n",
    "    ...\n",
    "  ]\n",
    "}\n",
    "The closest sample code that shows how to parse JSON and extract a list is json2.py. You might also want to look at geoxml.py to see how to prompt for a URL and retrieve data from a URL.\n",
    "\n",
    "Sample Execution\n",
    "\n",
    "$ python3 solution.py\n",
    "Enter location: http://py4e-data.dr-chuck.net/comments_42.json\n",
    "Retrieving http://py4e-data.dr-chuck.net/comments_42.json\n",
    "Retrieved 2733 characters\n",
    "Count: 50\n",
    "Sum: 2..."
   ]
  },
  {
   "cell_type": "code",
   "execution_count": 46,
   "metadata": {},
   "outputs": [],
   "source": [
    "import json"
   ]
  },
  {
   "cell_type": "code",
   "execution_count": 47,
   "metadata": {},
   "outputs": [],
   "source": [
    "import urllib.request, urllib.parse, urllib.error"
   ]
  },
  {
   "cell_type": "code",
   "execution_count": 48,
   "metadata": {},
   "outputs": [],
   "source": [
    "counts = 0\n",
    "total = 0"
   ]
  },
  {
   "cell_type": "code",
   "execution_count": 49,
   "metadata": {},
   "outputs": [
    {
     "name": "stdout",
     "output_type": "stream",
     "text": [
      "Input link: http://py4e-data.dr-chuck.net/comments_1392402.json\n",
      "Retrieving http://py4e-data.dr-chuck.net/comments_1392402.json\n",
      "User count:  2\n",
      "2467.0\n",
      "50\n"
     ]
    }
   ],
   "source": [
    "url = input('Input link: ')\n",
    "print ('Retrieving', url)\n",
    "\n",
    "fhandle = urllib.request.urlopen(url)\n",
    "\n",
    "info = json.load(fhandle)\n",
    "print (\"User count: \", len(info))\n",
    "\n",
    "for item in info['comments']:\n",
    "    count = item['count']\n",
    "    counts = counts + 1\n",
    "    total = total + float(count)\n",
    "\n",
    "print (total)\n",
    "print (\"counts\", counts)"
   ]
  },
  {
   "cell_type": "markdown",
   "metadata": {},
   "source": [
    "## alternative approach to solving the above task"
   ]
  },
  {
   "cell_type": "code",
   "execution_count": 50,
   "metadata": {},
   "outputs": [
    {
     "name": "stdout",
     "output_type": "stream",
     "text": [
      "retrieving URL. Stand by.\n",
      "2467.0\n"
     ]
    }
   ],
   "source": [
    "import json\n",
    "import urllib\n",
    "count = 0\n",
    "\n",
    "url = \"http://py4e-data.dr-chuck.net/comments_1392402.json\"\n",
    "print (\"retrieving URL. Stand by.\")\n",
    "uh = urllib.request.urlopen(url)\n",
    "data= uh.read()\n",
    "\n",
    "info = json.loads(data)\n",
    "for item in info[\"comments\"]:\n",
    "    #print (item[\"count\"])\n",
    "    number = float(item[\"count\"])\n",
    "    count = count + number\n",
    "print (count)"
   ]
  },
  {
   "cell_type": "code",
   "execution_count": null,
   "metadata": {},
   "outputs": [],
   "source": []
  }
 ],
 "metadata": {
  "kernelspec": {
   "display_name": "Python 3",
   "language": "python",
   "name": "python3"
  },
  "language_info": {
   "codemirror_mode": {
    "name": "ipython",
    "version": 3
   },
   "file_extension": ".py",
   "mimetype": "text/x-python",
   "name": "python",
   "nbconvert_exporter": "python",
   "pygments_lexer": "ipython3",
   "version": "3.7.6"
  }
 },
 "nbformat": 4,
 "nbformat_minor": 4
}
